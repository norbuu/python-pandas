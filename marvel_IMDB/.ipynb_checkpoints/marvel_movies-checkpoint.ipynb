{
 "cells": [
  {
   "cell_type": "code",
   "execution_count": 1,
   "metadata": {},
   "outputs": [],
   "source": [
    "import pandas as pd\n",
    "import numpy as np\n",
    "import matplotlib.pyplot as plt\n"
   ]
  },
  {
   "cell_type": "code",
   "execution_count": 2,
   "metadata": {},
   "outputs": [],
   "source": [
    "#Import dataset\n",
    "data_raw = pd.read_csv('marvel_imdb_data.csv')\n",
    "df = pd.DataFrame(data_raw)"
   ]
  },
  {
   "cell_type": "code",
   "execution_count": 3,
   "metadata": {},
   "outputs": [],
   "source": [
    "#Data preprocessing \n",
    "df.columns = [x.replace(' ',\"_\").lower() for x in df.columns]\n",
    "df = df.drop(columns = [\"uniq_id\",'crawl_timestamp', 'pageurl', 'movie_rating', \n",
    "                   'plot', 'cast', 'filming_locations', 'language','collection_date'])\n",
    "df['title'] = df['title'].apply(lambda x: x[:-13])\n",
    "df['release_date'] = df['release_date'].apply(lambda x: str(x)[:-6])\n",
    "df = df.dropna()"
   ]
  },
  {
   "cell_type": "code",
   "execution_count": 4,
   "metadata": {},
   "outputs": [],
   "source": [
    "df_clean = df.copy()\n"
   ]
  },
  {
   "cell_type": "code",
   "execution_count": 5,
   "metadata": {},
   "outputs": [],
   "source": [
    "#Converting string to int values\n",
    "df_clean['collection'] = df_clean['collection'].apply(lambda x: x.replace(\",\",\"\").replace(\"$\",\"\"))\n",
    "df_clean['budget'] = df_clean['budget'].apply(lambda x: x.replace(\",\",\"\").replace(\"$\",\"\"))\n",
    "df_clean['budget']= df_clean['budget'].astype(int)\n",
    "df_clean['collection'] = df_clean['collection'].astype('int64')"
   ]
  },
  {
   "cell_type": "code",
   "execution_count": 6,
   "metadata": {},
   "outputs": [
    {
     "data": {
      "text/plain": [
       "title              object\n",
       "genres             object\n",
       "release_date       object\n",
       "review_rating     float64\n",
       "movie_run_time     object\n",
       "budget              int32\n",
       "collection          int64\n",
       "dtype: object"
      ]
     },
     "execution_count": 6,
     "metadata": {},
     "output_type": "execute_result"
    }
   ],
   "source": [
    "df_clean.dtypes"
   ]
  },
  {
   "cell_type": "code",
   "execution_count": 7,
   "metadata": {},
   "outputs": [
    {
     "data": {
      "text/html": [
       "<div>\n",
       "<style scoped>\n",
       "    .dataframe tbody tr th:only-of-type {\n",
       "        vertical-align: middle;\n",
       "    }\n",
       "\n",
       "    .dataframe tbody tr th {\n",
       "        vertical-align: top;\n",
       "    }\n",
       "\n",
       "    .dataframe thead th {\n",
       "        text-align: right;\n",
       "    }\n",
       "</style>\n",
       "<table border=\"1\" class=\"dataframe\">\n",
       "  <thead>\n",
       "    <tr style=\"text-align: right;\">\n",
       "      <th></th>\n",
       "      <th>title</th>\n",
       "      <th>genres</th>\n",
       "      <th>release_date</th>\n",
       "      <th>review_rating</th>\n",
       "      <th>movie_run_time</th>\n",
       "      <th>budget</th>\n",
       "      <th>collection</th>\n",
       "    </tr>\n",
       "  </thead>\n",
       "  <tbody>\n",
       "    <tr>\n",
       "      <th>1</th>\n",
       "      <td>Iron Man 2</td>\n",
       "      <td>Action|Adventure|Sci-Fi</td>\n",
       "      <td>7 May 2010</td>\n",
       "      <td>7.0</td>\n",
       "      <td>124 min</td>\n",
       "      <td>200000000</td>\n",
       "      <td>623933331</td>\n",
       "    </tr>\n",
       "    <tr>\n",
       "      <th>2</th>\n",
       "      <td>Guardians of the Galaxy</td>\n",
       "      <td>Action|Adventure|Comedy|Sci-Fi</td>\n",
       "      <td>1 August 2014</td>\n",
       "      <td>8.1</td>\n",
       "      <td>121 min</td>\n",
       "      <td>170000000</td>\n",
       "      <td>774176600</td>\n",
       "    </tr>\n",
       "    <tr>\n",
       "      <th>3</th>\n",
       "      <td>Black Panther</td>\n",
       "      <td>Action|Adventure|Sci-Fi</td>\n",
       "      <td>16 February 2018</td>\n",
       "      <td>7.3</td>\n",
       "      <td>134 min</td>\n",
       "      <td>200000000</td>\n",
       "      <td>1347071259</td>\n",
       "    </tr>\n",
       "    <tr>\n",
       "      <th>4</th>\n",
       "      <td>Iron Man 3</td>\n",
       "      <td>Action|Adventure|Sci-Fi</td>\n",
       "      <td>3 May 2013</td>\n",
       "      <td>7.2</td>\n",
       "      <td>130 min</td>\n",
       "      <td>200000000</td>\n",
       "      <td>1215439994</td>\n",
       "    </tr>\n",
       "    <tr>\n",
       "      <th>5</th>\n",
       "      <td>The Incredible Hulk</td>\n",
       "      <td>Action|Adventure|Sci-Fi</td>\n",
       "      <td>13 June 2008</td>\n",
       "      <td>6.7</td>\n",
       "      <td>112 min</td>\n",
       "      <td>150000000</td>\n",
       "      <td>263427551</td>\n",
       "    </tr>\n",
       "  </tbody>\n",
       "</table>\n",
       "</div>"
      ],
      "text/plain": [
       "                      title                          genres  \\\n",
       "1               Iron Man 2          Action|Adventure|Sci-Fi   \n",
       "2  Guardians of the Galaxy   Action|Adventure|Comedy|Sci-Fi   \n",
       "3            Black Panther          Action|Adventure|Sci-Fi   \n",
       "4               Iron Man 3          Action|Adventure|Sci-Fi   \n",
       "5      The Incredible Hulk          Action|Adventure|Sci-Fi   \n",
       "\n",
       "        release_date  review_rating movie_run_time     budget  collection  \n",
       "1        7 May 2010             7.0        124 min  200000000   623933331  \n",
       "2     1 August 2014             8.1        121 min  170000000   774176600  \n",
       "3  16 February 2018             7.3        134 min  200000000  1347071259  \n",
       "4        3 May 2013             7.2        130 min  200000000  1215439994  \n",
       "5      13 June 2008             6.7        112 min  150000000   263427551  "
      ]
     },
     "execution_count": 7,
     "metadata": {},
     "output_type": "execute_result"
    }
   ],
   "source": [
    "df_clean.head(5)"
   ]
  },
  {
   "cell_type": "code",
   "execution_count": 8,
   "metadata": {},
   "outputs": [
    {
     "data": {
      "text/html": [
       "<div>\n",
       "<style scoped>\n",
       "    .dataframe tbody tr th:only-of-type {\n",
       "        vertical-align: middle;\n",
       "    }\n",
       "\n",
       "    .dataframe tbody tr th {\n",
       "        vertical-align: top;\n",
       "    }\n",
       "\n",
       "    .dataframe thead th {\n",
       "        text-align: right;\n",
       "    }\n",
       "</style>\n",
       "<table border=\"1\" class=\"dataframe\">\n",
       "  <thead>\n",
       "    <tr style=\"text-align: right;\">\n",
       "      <th></th>\n",
       "      <th>review_rating</th>\n",
       "      <th>budget</th>\n",
       "      <th>collection</th>\n",
       "    </tr>\n",
       "  </thead>\n",
       "  <tbody>\n",
       "    <tr>\n",
       "      <th>count</th>\n",
       "      <td>21.000000</td>\n",
       "      <td>2.100000e+01</td>\n",
       "      <td>2.100000e+01</td>\n",
       "    </tr>\n",
       "    <tr>\n",
       "      <th>mean</th>\n",
       "      <td>7.538095</td>\n",
       "      <td>1.951905e+08</td>\n",
       "      <td>9.626372e+08</td>\n",
       "    </tr>\n",
       "    <tr>\n",
       "      <th>std</th>\n",
       "      <td>0.554505</td>\n",
       "      <td>5.804534e+07</td>\n",
       "      <td>5.860742e+08</td>\n",
       "    </tr>\n",
       "    <tr>\n",
       "      <th>min</th>\n",
       "      <td>6.700000</td>\n",
       "      <td>1.300000e+08</td>\n",
       "      <td>2.634276e+08</td>\n",
       "    </tr>\n",
       "    <tr>\n",
       "      <th>25%</th>\n",
       "      <td>7.100000</td>\n",
       "      <td>1.620000e+08</td>\n",
       "      <td>6.226741e+08</td>\n",
       "    </tr>\n",
       "    <tr>\n",
       "      <th>50%</th>\n",
       "      <td>7.500000</td>\n",
       "      <td>1.750000e+08</td>\n",
       "      <td>7.741766e+08</td>\n",
       "    </tr>\n",
       "    <tr>\n",
       "      <th>75%</th>\n",
       "      <td>7.900000</td>\n",
       "      <td>2.000000e+08</td>\n",
       "      <td>1.215440e+09</td>\n",
       "    </tr>\n",
       "    <tr>\n",
       "      <th>max</th>\n",
       "      <td>8.800000</td>\n",
       "      <td>3.560000e+08</td>\n",
       "      <td>2.681989e+09</td>\n",
       "    </tr>\n",
       "  </tbody>\n",
       "</table>\n",
       "</div>"
      ],
      "text/plain": [
       "       review_rating        budget    collection\n",
       "count      21.000000  2.100000e+01  2.100000e+01\n",
       "mean        7.538095  1.951905e+08  9.626372e+08\n",
       "std         0.554505  5.804534e+07  5.860742e+08\n",
       "min         6.700000  1.300000e+08  2.634276e+08\n",
       "25%         7.100000  1.620000e+08  6.226741e+08\n",
       "50%         7.500000  1.750000e+08  7.741766e+08\n",
       "75%         7.900000  2.000000e+08  1.215440e+09\n",
       "max         8.800000  3.560000e+08  2.681989e+09"
      ]
     },
     "execution_count": 8,
     "metadata": {},
     "output_type": "execute_result"
    }
   ],
   "source": [
    "df_clean.describe()"
   ]
  },
  {
   "cell_type": "code",
   "execution_count": 9,
   "metadata": {},
   "outputs": [
    {
     "data": {
      "text/html": [
       "<div>\n",
       "<style scoped>\n",
       "    .dataframe tbody tr th:only-of-type {\n",
       "        vertical-align: middle;\n",
       "    }\n",
       "\n",
       "    .dataframe tbody tr th {\n",
       "        vertical-align: top;\n",
       "    }\n",
       "\n",
       "    .dataframe thead th {\n",
       "        text-align: right;\n",
       "    }\n",
       "</style>\n",
       "<table border=\"1\" class=\"dataframe\">\n",
       "  <thead>\n",
       "    <tr style=\"text-align: right;\">\n",
       "      <th></th>\n",
       "      <th>title</th>\n",
       "      <th>genres</th>\n",
       "      <th>release_date</th>\n",
       "      <th>review_rating</th>\n",
       "      <th>movie_run_time</th>\n",
       "      <th>budget</th>\n",
       "      <th>collection</th>\n",
       "    </tr>\n",
       "  </thead>\n",
       "  <tbody>\n",
       "    <tr>\n",
       "      <th>14</th>\n",
       "      <td>Avengers: Endgame</td>\n",
       "      <td>Action|Adventure|Sci-Fi</td>\n",
       "      <td>26 April 2019</td>\n",
       "      <td>8.8</td>\n",
       "      <td>181 min</td>\n",
       "      <td>356000000</td>\n",
       "      <td>2681988528</td>\n",
       "    </tr>\n",
       "    <tr>\n",
       "      <th>11</th>\n",
       "      <td>Avengers: Infinity War</td>\n",
       "      <td>Action|Adventure|Sci-Fi</td>\n",
       "      <td>27 April 2018</td>\n",
       "      <td>8.5</td>\n",
       "      <td>149 min</td>\n",
       "      <td>321000000</td>\n",
       "      <td>2048709917</td>\n",
       "    </tr>\n",
       "    <tr>\n",
       "      <th>9</th>\n",
       "      <td>Captain America: Civil War</td>\n",
       "      <td>Action|Adventure|Sci-Fi</td>\n",
       "      <td>6 May 2016</td>\n",
       "      <td>7.8</td>\n",
       "      <td>147 min</td>\n",
       "      <td>250000000</td>\n",
       "      <td>1153304495</td>\n",
       "    </tr>\n",
       "  </tbody>\n",
       "</table>\n",
       "</div>"
      ],
      "text/plain": [
       "                          title                   genres    release_date  \\\n",
       "14           Avengers: Endgame   Action|Adventure|Sci-Fi  26 April 2019    \n",
       "11      Avengers: Infinity War   Action|Adventure|Sci-Fi  27 April 2018    \n",
       "9   Captain America: Civil War   Action|Adventure|Sci-Fi     6 May 2016    \n",
       "\n",
       "    review_rating movie_run_time     budget  collection  \n",
       "14            8.8        181 min  356000000  2681988528  \n",
       "11            8.5        149 min  321000000  2048709917  \n",
       "9             7.8        147 min  250000000  1153304495  "
      ]
     },
     "execution_count": 9,
     "metadata": {},
     "output_type": "execute_result"
    }
   ],
   "source": [
    "df_clean.sort_values('budget', ascending = False).head(3)"
   ]
  },
  {
   "cell_type": "code",
   "execution_count": 10,
   "metadata": {},
   "outputs": [
    {
     "data": {
      "text/plain": [
       "Text(0.5, 1.0, 'Most expensive films')"
      ]
     },
     "execution_count": 10,
     "metadata": {},
     "output_type": "execute_result"
    },
    {
     "data": {
      "image/png": "[encoded data removed]",
      "text/plain": [
       "<Figure size 432x288 with 1 Axes>"
      ]
     },
     "metadata": {
      "needs_background": "light"
     },
     "output_type": "display_data"
    }
   ],
   "source": [
    "plt_1 = df_clean.sort_values('budget', ascending = False).head(3).plot(x = 'title', y = 'budget', kind = 'bar', alpha = 0.5)\n",
    "plt_1.set_title(\"Most expensive films\", fontname='Comic Sans MS', fontsize=15)"
   ]
  },
  {
   "cell_type": "code",
   "execution_count": 11,
   "metadata": {},
   "outputs": [
    {
     "data": {
      "text/html": [
       "<div>\n",
       "<style scoped>\n",
       "    .dataframe tbody tr th:only-of-type {\n",
       "        vertical-align: middle;\n",
       "    }\n",
       "\n",
       "    .dataframe tbody tr th {\n",
       "        vertical-align: top;\n",
       "    }\n",
       "\n",
       "    .dataframe thead th {\n",
       "        text-align: right;\n",
       "    }\n",
       "</style>\n",
       "<table border=\"1\" class=\"dataframe\">\n",
       "  <thead>\n",
       "    <tr style=\"text-align: right;\">\n",
       "      <th></th>\n",
       "      <th>title</th>\n",
       "      <th>genres</th>\n",
       "      <th>release_date</th>\n",
       "      <th>review_rating</th>\n",
       "      <th>movie_run_time</th>\n",
       "      <th>budget</th>\n",
       "      <th>collection</th>\n",
       "      <th>profit</th>\n",
       "    </tr>\n",
       "  </thead>\n",
       "  <tbody>\n",
       "    <tr>\n",
       "      <th>14</th>\n",
       "      <td>Avengers: Endgame</td>\n",
       "      <td>Action|Adventure|Sci-Fi</td>\n",
       "      <td>26 April 2019</td>\n",
       "      <td>8.8</td>\n",
       "      <td>181 min</td>\n",
       "      <td>356000000</td>\n",
       "      <td>2681988528</td>\n",
       "      <td>2325988528</td>\n",
       "    </tr>\n",
       "    <tr>\n",
       "      <th>11</th>\n",
       "      <td>Avengers: Infinity War</td>\n",
       "      <td>Action|Adventure|Sci-Fi</td>\n",
       "      <td>27 April 2018</td>\n",
       "      <td>8.5</td>\n",
       "      <td>149 min</td>\n",
       "      <td>321000000</td>\n",
       "      <td>2048709917</td>\n",
       "      <td>1727709917</td>\n",
       "    </tr>\n",
       "    <tr>\n",
       "      <th>23</th>\n",
       "      <td>The Avengers</td>\n",
       "      <td>Action|Adventure|Sci-Fi</td>\n",
       "      <td>4 May 2012</td>\n",
       "      <td>8.1</td>\n",
       "      <td>143 min</td>\n",
       "      <td>220000000</td>\n",
       "      <td>1519557910</td>\n",
       "      <td>1299557910</td>\n",
       "    </tr>\n",
       "  </tbody>\n",
       "</table>\n",
       "</div>"
      ],
      "text/plain": [
       "                      title                   genres    release_date  \\\n",
       "14       Avengers: Endgame   Action|Adventure|Sci-Fi  26 April 2019    \n",
       "11  Avengers: Infinity War   Action|Adventure|Sci-Fi  27 April 2018    \n",
       "23            The Avengers   Action|Adventure|Sci-Fi     4 May 2012    \n",
       "\n",
       "    review_rating movie_run_time     budget  collection      profit  \n",
       "14            8.8        181 min  356000000  2681988528  2325988528  \n",
       "11            8.5        149 min  321000000  2048709917  1727709917  \n",
       "23            8.1        143 min  220000000  1519557910  1299557910  "
      ]
     },
     "execution_count": 11,
     "metadata": {},
     "output_type": "execute_result"
    }
   ],
   "source": [
    "df_clean['profit'] = df_clean['collection']-df_clean['budget']\n",
    "df_clean.sort_values('profit', ascending= False).head(3)"
   ]
  },
  {
   "cell_type": "code",
   "execution_count": 12,
   "metadata": {},
   "outputs": [
    {
     "data": {
      "text/plain": [
       "Text(0.5, 1.0, 'Top 3 films (profit)')"
      ]
     },
     "execution_count": 12,
     "metadata": {},
     "output_type": "execute_result"
    },
    {
     "data": {
      "image/png": "[encoded data removed]",
      "text/plain": [
       "<Figure size 432x288 with 1 Axes>"
      ]
     },
     "metadata": {
      "needs_background": "light"
     },
     "output_type": "display_data"
    }
   ],
   "source": [
    "plt_2= df_clean.sort_values('profit', ascending= False).head(3).plot(x = 'title', y = 'profit', kind = 'bar', \n",
    "                                                                    alpha = 0.5)\n",
    "plt_2.set_title(\"Top 3 films (profit)\", fontname='Comic Sans MS', fontsize=15)"
   ]
  },
  {
   "cell_type": "code",
   "execution_count": 13,
   "metadata": {},
   "outputs": [],
   "source": [
    "df_clean['ROI'] = (df_clean['collection']-df_clean['budget'])/df_clean['budget'] * 100"
   ]
  },
  {
   "cell_type": "code",
   "execution_count": 14,
   "metadata": {},
   "outputs": [
    {
     "data": {
      "text/html": [
       "<div>\n",
       "<style scoped>\n",
       "    .dataframe tbody tr th:only-of-type {\n",
       "        vertical-align: middle;\n",
       "    }\n",
       "\n",
       "    .dataframe tbody tr th {\n",
       "        vertical-align: top;\n",
       "    }\n",
       "\n",
       "    .dataframe thead th {\n",
       "        text-align: right;\n",
       "    }\n",
       "</style>\n",
       "<table border=\"1\" class=\"dataframe\">\n",
       "  <thead>\n",
       "    <tr style=\"text-align: right;\">\n",
       "      <th></th>\n",
       "      <th>title</th>\n",
       "      <th>genres</th>\n",
       "      <th>release_date</th>\n",
       "      <th>review_rating</th>\n",
       "      <th>movie_run_time</th>\n",
       "      <th>budget</th>\n",
       "      <th>collection</th>\n",
       "      <th>profit</th>\n",
       "      <th>ROI</th>\n",
       "    </tr>\n",
       "  </thead>\n",
       "  <tbody>\n",
       "    <tr>\n",
       "      <th>14</th>\n",
       "      <td>Avengers: Endgame</td>\n",
       "      <td>Action|Adventure|Sci-Fi</td>\n",
       "      <td>26 April 2019</td>\n",
       "      <td>8.8</td>\n",
       "      <td>181 min</td>\n",
       "      <td>356000000</td>\n",
       "      <td>2681988528</td>\n",
       "      <td>2325988528</td>\n",
       "      <td>653.367564</td>\n",
       "    </tr>\n",
       "    <tr>\n",
       "      <th>23</th>\n",
       "      <td>The Avengers</td>\n",
       "      <td>Action|Adventure|Sci-Fi</td>\n",
       "      <td>4 May 2012</td>\n",
       "      <td>8.1</td>\n",
       "      <td>143 min</td>\n",
       "      <td>220000000</td>\n",
       "      <td>1519557910</td>\n",
       "      <td>1299557910</td>\n",
       "      <td>590.708141</td>\n",
       "    </tr>\n",
       "    <tr>\n",
       "      <th>3</th>\n",
       "      <td>Black Panther</td>\n",
       "      <td>Action|Adventure|Sci-Fi</td>\n",
       "      <td>16 February 2018</td>\n",
       "      <td>7.3</td>\n",
       "      <td>134 min</td>\n",
       "      <td>200000000</td>\n",
       "      <td>1347071259</td>\n",
       "      <td>1147071259</td>\n",
       "      <td>573.535630</td>\n",
       "    </tr>\n",
       "  </tbody>\n",
       "</table>\n",
       "</div>"
      ],
      "text/plain": [
       "                 title                   genres       release_date  \\\n",
       "14  Avengers: Endgame   Action|Adventure|Sci-Fi     26 April 2019    \n",
       "23       The Avengers   Action|Adventure|Sci-Fi        4 May 2012    \n",
       "3       Black Panther   Action|Adventure|Sci-Fi  16 February 2018    \n",
       "\n",
       "    review_rating movie_run_time     budget  collection      profit  \\\n",
       "14            8.8        181 min  356000000  2681988528  2325988528   \n",
       "23            8.1        143 min  220000000  1519557910  1299557910   \n",
       "3             7.3        134 min  200000000  1347071259  1147071259   \n",
       "\n",
       "           ROI  \n",
       "14  653.367564  \n",
       "23  590.708141  \n",
       "3   573.535630  "
      ]
     },
     "execution_count": 14,
     "metadata": {},
     "output_type": "execute_result"
    }
   ],
   "source": [
    "df_clean.sort_values('ROI', ascending= False).head(3)"
   ]
  },
  {
   "cell_type": "code",
   "execution_count": 15,
   "metadata": {},
   "outputs": [
    {
     "data": {
      "text/plain": [
       "Text(0.5, 1.0, 'Top 3 films (ROI)')"
      ]
     },
     "execution_count": 15,
     "metadata": {},
     "output_type": "execute_result"
    },
    {
     "data": {
      "image/png": "[encoded data removed]",
      "text/plain": [
       "<Figure size 432x288 with 1 Axes>"
      ]
     },
     "metadata": {
      "needs_background": "light"
     },
     "output_type": "display_data"
    }
   ],
   "source": [
    "plt_3 = df_clean.sort_values('ROI', ascending= False).head(3).plot(x = 'title', y = 'ROI', kind = 'bar', alpha = 0.5)\n",
    "plt_3.set_title(\"Top 3 films (ROI)\", fontname='Comic Sans MS', fontsize=15)"
   ]
  },
  {
   "cell_type": "code",
   "execution_count": null,
   "metadata": {},
   "outputs": [],
   "source": []
  },
  {
   "cell_type": "code",
   "execution_count": null,
   "metadata": {},
   "outputs": [],
   "source": []
  }
 ],
 "metadata": {
  "kernelspec": {
   "display_name": "Python 3",
   "language": "python",
   "name": "python3"
  },
  "language_info": {
   "codemirror_mode": {
    "name": "ipython",
    "version": 3
   },
   "file_extension": ".py",
   "mimetype": "text/x-python",
   "name": "python",
   "nbconvert_exporter": "python",
   "pygments_lexer": "ipython3",
   "version": "3.7.3"
  }
 },
 "nbformat": 4,
 "nbformat_minor": 2
}
